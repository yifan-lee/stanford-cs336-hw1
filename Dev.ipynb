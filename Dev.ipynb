{
 "cells": [
  {
   "cell_type": "code",
   "execution_count": 1,
   "id": "fd98ce07",
   "metadata": {},
   "outputs": [],
   "source": [
    "import pandas as pd\n",
    "from collections import defaultdict"
   ]
  },
  {
   "cell_type": "markdown",
   "id": "650cfbf0",
   "metadata": {},
   "source": [
    "## 2.4 BPE Tokenizer Training\n"
   ]
  },
  {
   "cell_type": "code",
   "execution_count": 53,
   "id": "ff6f96ee",
   "metadata": {},
   "outputs": [],
   "source": [
    "PAT = r\"\"\"'(?:[sdmt]|ll|ve|re)| ?\\p{L}+| ?\\p{N}+| ?[^\\s\\p{L}\\p{N}]+|\\s+(?!\\S)|\\s+\"\"\""
   ]
  },
  {
   "cell_type": "code",
   "execution_count": 54,
   "id": "0714e7d0",
   "metadata": {},
   "outputs": [],
   "source": [
    "import regex as re"
   ]
  },
  {
   "cell_type": "code",
   "execution_count": 55,
   "id": "8fa43688",
   "metadata": {},
   "outputs": [
    {
     "data": {
      "text/plain": [
       "['some', ' text', ' that', ' i', \"'ll\", ' pre', '-', 'tokenize']"
      ]
     },
     "execution_count": 55,
     "metadata": {},
     "output_type": "execute_result"
    }
   ],
   "source": [
    "re.findall(PAT, \"some text that i'll pre-tokenize\")"
   ]
  },
  {
   "cell_type": "code",
   "execution_count": 56,
   "id": "efbf8b5a",
   "metadata": {},
   "outputs": [
    {
     "data": {
      "text/plain": [
       "<_regex.Scanner at 0x138774ac0>"
      ]
     },
     "execution_count": 56,
     "metadata": {},
     "output_type": "execute_result"
    }
   ],
   "source": [
    "re.finditer(PAT, \"some text that i'll pre-tokenize\")"
   ]
  },
  {
   "cell_type": "markdown",
   "id": "e4acb032",
   "metadata": {},
   "source": [
    "## 2.5 Experimenting with BPE Tokenizer Training\n"
   ]
  },
  {
   "cell_type": "code",
   "execution_count": 2,
   "id": "0cd62680",
   "metadata": {},
   "outputs": [],
   "source": [
    "def train_bpe(input_path: str, vocab_size: int, special_tokens: list[str]) -> tuple[dict[int, bytes], list[tuple[bytes, bytes]]]:\n",
    "    pass"
   ]
  },
  {
   "cell_type": "code",
   "execution_count": null,
   "id": "d4108944",
   "metadata": {},
   "outputs": [],
   "source": [
    "def load_txt_as_str(input_path: str) -> str:\n",
    "    with open(input_path, \"r\", encoding=\"utf-8\") as f:\n",
    "        text = f.read()\n",
    "    return text\n",
    "\n",
    "def split_string(string: str, special_tokens: list[str]) -> list[str]:\n",
    "    pattern = \"|\".join(re.escape(tok) for tok in special_tokens)\n",
    "    return re.split(pattern,string)\n",
    "\n",
    "def get_tok_counts(string_list: list[str]) -> dict[str, int]:\n",
    "    counts = defaultdict(int)\n",
    "    for s in string_list:\n",
    "        tokens = re.finditer(PAT, s)\n",
    "        for m in tokens:\n",
    "            tok = m.group(0)\n",
    "            counts[tok] += 1\n",
    "    return counts\n",
    "\n",
    "def get_element_counts(counts: dict[str, int])-> dict[str, int]:\n",
    "    element_counts = defaultdict(int)\n",
    "    for token, count in counts.items():\n",
    "        elements = tuple([k for k in token])\n",
    "        element_counts[elements] += count\n",
    "    return element_counts\n",
    "\n",
    "def get_pair_counts(element_counts: dict[str, int]) -> dict[str, int]:\n",
    "    pair_counts = defaultdict(int)\n",
    "    for elements, count in element_counts.items():\n",
    "        for i in range(len(elements)-1):\n",
    "            pair = elements[i]+elements[i+1]\n",
    "            pair_counts[pair] += count\n",
    "    return pair_counts"
   ]
  },
  {
   "cell_type": "code",
   "execution_count": 165,
   "id": "4e4f25a8",
   "metadata": {},
   "outputs": [],
   "source": [
    "special_tokens = ['<|endoftext|>']\n",
    "input_path = fr'./data/test.txt'\n",
    "PAT = r\"\"\"'(?:[sdmt]|ll|ve|re)| ?\\p{L}+| ?\\p{N}+| ?[^\\s\\p{L}\\p{N}]+|\\s+(?!\\S)|\\s+\"\"\""
   ]
  },
  {
   "cell_type": "code",
   "execution_count": null,
   "id": "336dfe02",
   "metadata": {},
   "outputs": [],
   "source": [
    "# string = load_txt_as_str(input_path)\n",
    "string = 'hi. i\\'m yifan li. nice to meet you. this the what when here where'\n",
    "string_list = split_string(string, special_tokens)\n",
    "counts = get_tok_counts(string_list)\n",
    "element_counts = get_element_counts(counts)\n",
    "pair_counts = get_pair_counts(element_counts)"
   ]
  },
  {
   "cell_type": "code",
   "execution_count": 168,
   "id": "967b43d9",
   "metadata": {},
   "outputs": [
    {
     "data": {
      "text/plain": [
       "defaultdict(int,\n",
       "            {('h', 'i'): 1,\n",
       "             ('.',): 3,\n",
       "             (' ', 'i'): 1,\n",
       "             (\"'\", 'm'): 1,\n",
       "             (' ', 'y', 'i', 'f', 'a', 'n'): 1,\n",
       "             (' ', 'l', 'i'): 1,\n",
       "             (' ', 'n', 'i', 'c', 'e'): 1,\n",
       "             (' ', 't', 'o'): 1,\n",
       "             (' ', 'm', 'e', 'e', 't'): 1,\n",
       "             (' ', 'y', 'o', 'u'): 1,\n",
       "             (' ', 't', 'h', 'i', 's'): 1,\n",
       "             (' ', 't', 'h', 'e'): 1,\n",
       "             (' ', 'w', 'h', 'a', 't'): 1,\n",
       "             (' ', 'w', 'h', 'e', 'n'): 1,\n",
       "             (' ', 'h', 'e', 'r', 'e'): 1,\n",
       "             (' ', 'w', 'h', 'e', 'r', 'e'): 1})"
      ]
     },
     "execution_count": 168,
     "metadata": {},
     "output_type": "execute_result"
    }
   ],
   "source": [
    "element_counts"
   ]
  },
  {
   "cell_type": "code",
   "execution_count": null,
   "id": "9b4d8a1c",
   "metadata": {},
   "outputs": [],
   "source": []
  },
  {
   "cell_type": "code",
   "execution_count": null,
   "id": "e369a332",
   "metadata": {},
   "outputs": [],
   "source": []
  },
  {
   "cell_type": "code",
   "execution_count": 150,
   "id": "c50deb38",
   "metadata": {},
   "outputs": [
    {
     "data": {
      "text/plain": [
       "'he'"
      ]
     },
     "execution_count": 150,
     "metadata": {},
     "output_type": "execute_result"
    }
   ],
   "source": [
    "max(pair_counts, key=pair_counts.get)"
   ]
  },
  {
   "cell_type": "code",
   "execution_count": 160,
   "id": "2658d073",
   "metadata": {},
   "outputs": [
    {
     "data": {
      "text/plain": [
       "defaultdict(int,\n",
       "            {'hi': 2,\n",
       "             ' i': 1,\n",
       "             \"'m\": 1,\n",
       "             ' y': 2,\n",
       "             'yi': 1,\n",
       "             'if': 1,\n",
       "             'fa': 1,\n",
       "             'an': 1,\n",
       "             ' l': 1,\n",
       "             'li': 1,\n",
       "             ' n': 1,\n",
       "             'ni': 1,\n",
       "             'ic': 1,\n",
       "             'ce': 1,\n",
       "             ' t': 3,\n",
       "             'to': 1,\n",
       "             ' m': 1,\n",
       "             'me': 1,\n",
       "             'ee': 1,\n",
       "             'et': 1,\n",
       "             'yo': 1,\n",
       "             'ou': 1,\n",
       "             'th': 2,\n",
       "             'is': 1,\n",
       "             'he': 4,\n",
       "             ' w': 3,\n",
       "             'wh': 3,\n",
       "             'ha': 1,\n",
       "             'at': 1,\n",
       "             'en': 1,\n",
       "             ' h': 1,\n",
       "             'er': 2,\n",
       "             're': 2})"
      ]
     },
     "execution_count": 160,
     "metadata": {},
     "output_type": "execute_result"
    }
   ],
   "source": [
    "pair_counts"
   ]
  },
  {
   "cell_type": "code",
   "execution_count": 148,
   "id": "e30e9f10",
   "metadata": {},
   "outputs": [
    {
     "data": {
      "text/plain": [
       "defaultdict(int,\n",
       "            {'hi': 2,\n",
       "             ' i': 1,\n",
       "             \"'m\": 1,\n",
       "             ' y': 2,\n",
       "             'yi': 1,\n",
       "             'if': 1,\n",
       "             'fa': 1,\n",
       "             'an': 1,\n",
       "             ' l': 1,\n",
       "             'li': 1,\n",
       "             ' n': 1,\n",
       "             'ni': 1,\n",
       "             'ic': 1,\n",
       "             'ce': 1,\n",
       "             ' t': 3,\n",
       "             'to': 1,\n",
       "             ' m': 1,\n",
       "             'me': 1,\n",
       "             'ee': 1,\n",
       "             'et': 1,\n",
       "             'yo': 1,\n",
       "             'ou': 1,\n",
       "             'th': 2,\n",
       "             'is': 1,\n",
       "             'he': 4,\n",
       "             ' w': 3,\n",
       "             'wh': 3,\n",
       "             'ha': 1,\n",
       "             'at': 1,\n",
       "             'en': 1,\n",
       "             ' h': 1,\n",
       "             'er': 2,\n",
       "             're': 2})"
      ]
     },
     "execution_count": 148,
     "metadata": {},
     "output_type": "execute_result"
    }
   ],
   "source": [
    "pair_counts"
   ]
  },
  {
   "cell_type": "code",
   "execution_count": null,
   "id": "330713b5",
   "metadata": {},
   "outputs": [],
   "source": []
  }
 ],
 "metadata": {
  "kernelspec": {
   "display_name": "stanford",
   "language": "python",
   "name": "python3"
  },
  "language_info": {
   "codemirror_mode": {
    "name": "ipython",
    "version": 3
   },
   "file_extension": ".py",
   "mimetype": "text/x-python",
   "name": "python",
   "nbconvert_exporter": "python",
   "pygments_lexer": "ipython3",
   "version": "3.13.5"
  }
 },
 "nbformat": 4,
 "nbformat_minor": 5
}
