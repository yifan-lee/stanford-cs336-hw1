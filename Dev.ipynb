{
 "cells": [
  {
   "cell_type": "code",
   "execution_count": 7,
   "id": "fd98ce07",
   "metadata": {},
   "outputs": [],
   "source": [
    "import pandas as pd\n",
    "from collections import defaultdict\n",
    "import regex as re"
   ]
  },
  {
   "cell_type": "markdown",
   "id": "e4acb032",
   "metadata": {},
   "source": [
    "## 2.5 Experimenting with BPE Tokenizer Training\n"
   ]
  },
  {
   "cell_type": "code",
   "execution_count": 8,
   "id": "0cd62680",
   "metadata": {},
   "outputs": [],
   "source": [
    "def train_bpe(input_path: str, vocab_size: int, special_tokens: list[str]) -> tuple[dict[int, bytes], list[tuple[bytes, bytes]]]:\n",
    "    pass"
   ]
  },
  {
   "cell_type": "code",
   "execution_count": 58,
   "id": "d4108944",
   "metadata": {},
   "outputs": [],
   "source": [
    "def load_txt_as_str(input_path: str) -> str:\n",
    "    with open(input_path, \"r\", encoding=\"utf-8\") as f:\n",
    "        text = f.read()\n",
    "    return text\n",
    "\n",
    "def split_string(string: str, special_tokens: list[str]) -> list[str]:\n",
    "    pattern = \"|\".join(re.escape(tok) for tok in special_tokens)\n",
    "    return re.split(pattern,string)\n",
    "\n",
    "def get_tok_counts(string_list: list[str]) -> dict[str, int]:\n",
    "    counts = defaultdict(int)\n",
    "    for s in string_list:\n",
    "        tokens = re.finditer(PAT, s)\n",
    "        for m in tokens:\n",
    "            tok = m.group(0)\n",
    "            counts[tok] += 1\n",
    "    return counts\n",
    "\n",
    "def get_element_counts(counts: dict[str, int])-> dict[str, int]:\n",
    "    element_counts = defaultdict(int)\n",
    "    for token, count in counts.items():\n",
    "        elements = tuple([k for k in token])\n",
    "        element_counts[elements] += count\n",
    "    return element_counts\n",
    "\n",
    "def get_pair_counts(element_counts: dict[str, int]) -> dict[str, int]:\n",
    "    pair_counts = defaultdict(int)\n",
    "    for elements, count in element_counts.items():\n",
    "        for i in range(len(elements)-1):\n",
    "            pair_counts[(elements[i],elements[i+1])] += count\n",
    "    return pair_counts\n",
    "\n",
    "\n",
    "def update_element_counts(element_counts: dict[str, int], pair: tuple[str, str]) -> dict[str, int]:\n",
    "    new_element_counts = {}\n",
    "    for elements, counts in element_counts.items():\n",
    "        new_element = []\n",
    "        elements_len = len(elements)\n",
    "        index = 0\n",
    "        while index <= elements_len-1:\n",
    "            if (index < elements_len-1) and (elements[index] == pair[0]) and (elements[index+1] == pair[1]):\n",
    "                new_element.append(\"\".join(elements[index:index+2]))\n",
    "                index += 2\n",
    "            else:\n",
    "                new_element.append(elements[index])\n",
    "                index += 1\n",
    "        new_element_counts[tuple(new_element)] = counts\n",
    "    return new_element_counts        "
   ]
  },
  {
   "cell_type": "code",
   "execution_count": null,
   "id": "4e4f25a8",
   "metadata": {},
   "outputs": [],
   "source": [
    "special_tokens = ['<|endoftext|>']\n",
    "input_path = fr'./data/test.txt'\n",
    "PAT = r\"\"\"'(?:[sdmt]|ll|ve|re)| ?\\p{L}+| ?\\p{N}+| ?[^\\s\\p{L}\\p{N}]+|\\s+(?!\\S)|\\s+\"\"\"\n",
    "merge = []\n",
    "epochs = 6"
   ]
  },
  {
   "cell_type": "code",
   "execution_count": null,
   "id": "336dfe02",
   "metadata": {},
   "outputs": [],
   "source": [
    "# string = load_txt_as_str(input_path)\n",
    "string = 'hi. i\\'m yifan li. nice to meet you. this the what when here where'\n",
    "string_list = split_string(string, special_tokens)\n",
    "counts = get_tok_counts(string_list)\n",
    "element_counts = get_element_counts(counts)\n",
    "for i in range(epochs):\n",
    "    pair_counts = get_pair_counts(element_counts)\n",
    "    pair = max(pair_counts, key=lambda k: (pair_counts[k], k))\n",
    "    merge.append(pair)\n",
    "    element_counts = update_element_counts(element_counts, pair)"
   ]
  },
  {
   "cell_type": "code",
   "execution_count": 71,
   "id": "967b43d9",
   "metadata": {},
   "outputs": [
    {
     "data": {
      "text/plain": [
       "(' ', 'w')"
      ]
     },
     "execution_count": 71,
     "metadata": {},
     "output_type": "execute_result"
    }
   ],
   "source": [
    "pair_counts = get_pair_counts(element_counts)\n",
    "pair = max(pair_counts, key=lambda k: (pair_counts[k], k))\n",
    "pair"
   ]
  },
  {
   "cell_type": "code",
   "execution_count": 72,
   "id": "9b4d8a1c",
   "metadata": {},
   "outputs": [
    {
     "data": {
      "text/plain": [
       "defaultdict(int,\n",
       "            {('h', 'i'): 2,\n",
       "             (' ', 'i'): 1,\n",
       "             (\"'\", 'm'): 1,\n",
       "             (' ', 'y'): 2,\n",
       "             ('y', 'i'): 1,\n",
       "             ('i', 'f'): 1,\n",
       "             ('f', 'a'): 1,\n",
       "             ('a', 'n'): 1,\n",
       "             (' ', 'l'): 1,\n",
       "             ('l', 'i'): 1,\n",
       "             (' ', 'n'): 1,\n",
       "             ('n', 'i'): 1,\n",
       "             ('i', 'c'): 1,\n",
       "             ('c', 'e'): 1,\n",
       "             (' ', 't'): 3,\n",
       "             ('t', 'o'): 1,\n",
       "             (' ', 'm'): 1,\n",
       "             ('m', 'e'): 1,\n",
       "             ('e', 'e'): 1,\n",
       "             ('e', 't'): 1,\n",
       "             ('y', 'o'): 1,\n",
       "             ('o', 'u'): 1,\n",
       "             ('t', 'h'): 1,\n",
       "             ('i', 's'): 1,\n",
       "             ('t', 'he'): 1,\n",
       "             (' ', 'w'): 3,\n",
       "             ('w', 'h'): 1,\n",
       "             ('h', 'a'): 1,\n",
       "             ('a', 't'): 1,\n",
       "             ('w', 'he'): 2,\n",
       "             ('he', 'n'): 1,\n",
       "             (' ', 'he'): 1,\n",
       "             ('he', 'r'): 2,\n",
       "             ('r', 'e'): 2})"
      ]
     },
     "execution_count": 72,
     "metadata": {},
     "output_type": "execute_result"
    }
   ],
   "source": [
    "pair_counts"
   ]
  },
  {
   "cell_type": "code",
   "execution_count": 53,
   "id": "9c6fb87f",
   "metadata": {},
   "outputs": [
    {
     "data": {
      "text/plain": [
       "(' ', 'w', 'h', 'e', 'r', 'e')"
      ]
     },
     "execution_count": 53,
     "metadata": {},
     "output_type": "execute_result"
    }
   ],
   "source": [
    "elements"
   ]
  },
  {
   "cell_type": "code",
   "execution_count": 54,
   "id": "c50deb38",
   "metadata": {},
   "outputs": [
    {
     "data": {
      "text/plain": [
       "[' ', 'w']"
      ]
     },
     "execution_count": 54,
     "metadata": {},
     "output_type": "execute_result"
    }
   ],
   "source": [
    "index = 0\n",
    "list(elements[index:index+2])"
   ]
  },
  {
   "cell_type": "code",
   "execution_count": 55,
   "id": "2658d073",
   "metadata": {},
   "outputs": [
    {
     "data": {
      "text/plain": [
       "defaultdict(int,\n",
       "            {('h', 'i'): 1,\n",
       "             ('.',): 3,\n",
       "             (' ', 'i'): 1,\n",
       "             (\"'\", 'm'): 1,\n",
       "             (' ', 'y', 'i', 'f', 'a', 'n'): 1,\n",
       "             (' ', 'l', 'i'): 1,\n",
       "             (' ', 'n', 'i', 'c', 'e'): 1,\n",
       "             (' ', 't', 'o'): 1,\n",
       "             (' ', 'm', 'e', 'e', 't'): 1,\n",
       "             (' ', 'y', 'o', 'u'): 1,\n",
       "             (' ', 't', 'h', 'i', 's'): 1,\n",
       "             (' ', 't', 'h', 'e'): 1,\n",
       "             (' ', 'w', 'h', 'a', 't'): 1,\n",
       "             (' ', 'w', 'h', 'e', 'n'): 1,\n",
       "             (' ', 'h', 'e', 'r', 'e'): 1,\n",
       "             (' ', 'w', 'h', 'e', 'r', 'e'): 1})"
      ]
     },
     "execution_count": 55,
     "metadata": {},
     "output_type": "execute_result"
    }
   ],
   "source": [
    "element_counts"
   ]
  },
  {
   "cell_type": "code",
   "execution_count": 148,
   "id": "e30e9f10",
   "metadata": {},
   "outputs": [
    {
     "data": {
      "text/plain": [
       "defaultdict(int,\n",
       "            {'hi': 2,\n",
       "             ' i': 1,\n",
       "             \"'m\": 1,\n",
       "             ' y': 2,\n",
       "             'yi': 1,\n",
       "             'if': 1,\n",
       "             'fa': 1,\n",
       "             'an': 1,\n",
       "             ' l': 1,\n",
       "             'li': 1,\n",
       "             ' n': 1,\n",
       "             'ni': 1,\n",
       "             'ic': 1,\n",
       "             'ce': 1,\n",
       "             ' t': 3,\n",
       "             'to': 1,\n",
       "             ' m': 1,\n",
       "             'me': 1,\n",
       "             'ee': 1,\n",
       "             'et': 1,\n",
       "             'yo': 1,\n",
       "             'ou': 1,\n",
       "             'th': 2,\n",
       "             'is': 1,\n",
       "             'he': 4,\n",
       "             ' w': 3,\n",
       "             'wh': 3,\n",
       "             'ha': 1,\n",
       "             'at': 1,\n",
       "             'en': 1,\n",
       "             ' h': 1,\n",
       "             'er': 2,\n",
       "             're': 2})"
      ]
     },
     "execution_count": 148,
     "metadata": {},
     "output_type": "execute_result"
    }
   ],
   "source": [
    "pair_counts"
   ]
  },
  {
   "cell_type": "code",
   "execution_count": null,
   "id": "330713b5",
   "metadata": {},
   "outputs": [],
   "source": []
  }
 ],
 "metadata": {
  "kernelspec": {
   "display_name": "stanford",
   "language": "python",
   "name": "python3"
  },
  "language_info": {
   "codemirror_mode": {
    "name": "ipython",
    "version": 3
   },
   "file_extension": ".py",
   "mimetype": "text/x-python",
   "name": "python",
   "nbconvert_exporter": "python",
   "pygments_lexer": "ipython3",
   "version": "3.13.5"
  }
 },
 "nbformat": 4,
 "nbformat_minor": 5
}
